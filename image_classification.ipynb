{
  "nbformat": 4,
  "nbformat_minor": 0,
  "metadata": {
    "colab": {
      "name": "image_classification.ipynb",
      "version": "0.3.2",
      "provenance": [],
      "collapsed_sections": []
    },
    "kernelspec": {
      "name": "python3",
      "display_name": "Python 3"
    },
    "accelerator": "GPU"
  },
  "cells": [
    {
      "metadata": {
        "id": "i9MeGxXazHyz",
        "colab_type": "code",
        "colab": {}
      },
      "cell_type": "code",
      "source": [
        "import tensorflow as tf\n",
        "import cv2 as cv\n",
        "import os\n",
        "import numpy as np\n",
        "import glob\n",
        "from random import shuffle"
      ],
      "execution_count": 0,
      "outputs": []
    },
    {
      "metadata": {
        "id": "Cv0nYK7R3Ljj",
        "colab_type": "code",
        "outputId": "92387fa8-477e-4cf4-d962-ddd90dc15764",
        "colab": {
          "base_uri": "https://localhost:8080/",
          "height": 34
        }
      },
      "cell_type": "code",
      "source": [
        "from google.colab import drive\n",
        "drive.mount('/content/drive')"
      ],
      "execution_count": 0,
      "outputs": [
        {
          "output_type": "stream",
          "text": [
            "Drive already mounted at /content/drive; to attempt to forcibly remount, call drive.mount(\"/content/drive\", force_remount=True).\n"
          ],
          "name": "stdout"
        }
      ]
    },
    {
      "metadata": {
        "id": "GsQqrIO53ciM",
        "colab_type": "code",
        "outputId": "05b355b5-58f9-400a-da72-5c8dbfb6de33",
        "colab": {
          "base_uri": "https://localhost:8080/",
          "height": 34
        }
      },
      "cell_type": "code",
      "source": [
        "!ls '/content/drive/'"
      ],
      "execution_count": 0,
      "outputs": [
        {
          "output_type": "stream",
          "text": [
            "'My Drive'\n"
          ],
          "name": "stdout"
        }
      ]
    },
    {
      "metadata": {
        "id": "5yTDZokPzLDd",
        "colab_type": "code",
        "colab": {}
      },
      "cell_type": "code",
      "source": [
        "\n",
        "folder=\"/content/drive/My Drive/A1-Q2_Dataset/HumanActionClassification/\"\n",
        "nls=[]\n",
        "notp=[]\n",
        "for i in range(7):\n",
        "    for filename in glob.glob(folder+str(i+1)+'/*.jpg'):\n",
        "        img = cv.imread(filename)\n",
        "        if img is not None:\n",
        "          img = cv.resize(img, (100, 100))\n",
        "          nls.append(img)\n",
        "          notp.append(i)\n",
        "    "
      ],
      "execution_count": 0,
      "outputs": []
    },
    {
      "metadata": {
        "id": "qpAlKgEHo6Ix",
        "colab_type": "code",
        "colab": {}
      },
      "cell_type": "code",
      "source": [
        "ls=[]\n",
        "otp=[]\n",
        "a=[h for h in range(911)]\n",
        "shuffle(a)\n",
        "print(a)\n",
        "for h in a:\n",
        "  ls.append(nls[h])\n",
        "  otp.append(notp[h])\n"
      ],
      "execution_count": 0,
      "outputs": []
    },
    {
      "metadata": {
        "id": "16lwK2ggZvmx",
        "colab_type": "code",
        "colab": {}
      },
      "cell_type": "code",
      "source": [
        "ls1=ls[683:]\n",
        "ls1= np.asarray(ls1,dtype = np.float32)\n",
        "ls=ls[:683]"
      ],
      "execution_count": 0,
      "outputs": []
    },
    {
      "metadata": {
        "id": "b9LzVvyeUPQL",
        "colab_type": "code",
        "outputId": "160ea245-4c83-4a6f-9281-da35c3239073",
        "colab": {
          "base_uri": "https://localhost:8080/",
          "height": 34
        }
      },
      "cell_type": "code",
      "source": [
        "ls = np.asarray(ls,dtype = np.float32)\n",
        "print(ls.shape)"
      ],
      "execution_count": 0,
      "outputs": [
        {
          "output_type": "stream",
          "text": [
            "(683, 100, 100, 3)\n"
          ],
          "name": "stdout"
        }
      ]
    },
    {
      "metadata": {
        "id": "YCj9a3FXo5X6",
        "colab_type": "code",
        "colab": {}
      },
      "cell_type": "code",
      "source": [
        ""
      ],
      "execution_count": 0,
      "outputs": []
    },
    {
      "metadata": {
        "id": "vMoBDXtjF2yX",
        "colab_type": "code",
        "colab": {}
      },
      "cell_type": "code",
      "source": [
        "otp1=otp[683:]\n",
        "otp1= np.asarray(otp1,dtype = np.int)\n",
        "otp1=np.eye(7,dtype=int)[otp1]\n",
        "otp=otp[:683]\n",
        "otp = np.asarray(otp,dtype =int)\n"
      ],
      "execution_count": 0,
      "outputs": []
    },
    {
      "metadata": {
        "id": "XKy1F3Tycaxe",
        "colab_type": "code",
        "outputId": "3687f988-cf2a-4543-bda3-14c07ca7a938",
        "colab": {
          "base_uri": "https://localhost:8080/",
          "height": 34
        }
      },
      "cell_type": "code",
      "source": [
        "otp=np.eye(7,dtype=int)[otp]\n",
        "print(otp.shape)"
      ],
      "execution_count": 0,
      "outputs": [
        {
          "output_type": "stream",
          "text": [
            "(683, 7)\n"
          ],
          "name": "stdout"
        }
      ]
    },
    {
      "metadata": {
        "id": "G975w3VyHAQJ",
        "colab_type": "code",
        "colab": {}
      },
      "cell_type": "code",
      "source": [
        "def conv2d(X,w):\n",
        "    return tf.nn.conv2d(X,w,strides=[1,1,1,1],padding=\"SAME\")\n",
        "\n",
        "def maxpool2d(X):\n",
        "    return tf.nn.max_pool(X,ksize=[1,2,2,1],strides=[1,2,2,1],padding='SAME')\n"
      ],
      "execution_count": 0,
      "outputs": []
    },
    {
      "metadata": {
        "id": "RFcpkVcIG8j2",
        "colab_type": "code",
        "colab": {}
      },
      "cell_type": "code",
      "source": [
        "def conv_neural_network(X):\n",
        "  \n",
        "    weights={'w_conv1':tf.Variable(tf.random_normal([5,5,3,32])),\n",
        "             'w_conv2': tf.Variable(tf.random_normal([5, 5, 32, 64])),\n",
        "             'w_fc': tf.Variable(tf.random_normal([25*25*64,128])),\n",
        "             'out': tf.Variable(tf.random_normal([128,7])),}\n",
        "\n",
        "    biases={'b_conv1':tf.Variable(tf.random_normal([32])),\n",
        "             'b_conv2': tf.Variable(tf.random_normal([64])),\n",
        "             'b_fc': tf.Variable(tf.random_normal([128])),\n",
        "             'out': tf.Variable(tf.random_normal([7])),}\n",
        "   \n",
        "    conv1=conv2d(X,weights['w_conv1'])\n",
        "    conv1=maxpool2d(conv1)\n",
        "\n",
        "    conv2 = conv2d(conv1, weights['w_conv2'])\n",
        "    conv2 = maxpool2d(conv2)\n",
        "    \n",
        "    fc1 = tf.reshape(conv2, [-1, weights['w_fc'].get_shape().as_list()[0]])\n",
        "    fc1 = tf.add(tf.matmul(fc1, weights['w_fc']), biases['b_fc'])\n",
        "    fc1 = tf.nn.relu(fc1)\n",
        "\n",
        "    out = tf.add(tf.matmul(fc1, weights['out']), biases['out'])\n",
        "    return out"
      ],
      "execution_count": 0,
      "outputs": []
    },
    {
      "metadata": {
        "id": "HKsBoGCFX3hY",
        "colab_type": "code",
        "outputId": "93423cad-663f-4620-d0e4-da543ce92deb",
        "colab": {
          "base_uri": "https://localhost:8080/",
          "height": 5117
        }
      },
      "cell_type": "code",
      "source": [
        "\n",
        "def train_neural_network(X):\n",
        "    n_classes=7\n",
        "    batch_size=64\n",
        "\n",
        "    x=tf.placeholder('float',[None,100,100,3])\n",
        "    y=tf.placeholder('float',[None,7])\n",
        "    prediction=conv_neural_network(x)\n",
        "    cost=tf.reduce_mean(tf.nn.softmax_cross_entropy_with_logits_v2(logits = prediction,labels=y))\n",
        "    optimizer=tf.train.AdamOptimizer().minimize(cost)\n",
        "    \n",
        "    epochs=100\n",
        "    with tf.Session() as sess:\n",
        "        sess.run(tf.initialize_all_variables())\n",
        "\n",
        "        for ep in range(epochs):   \n",
        "            for  j in range(len(ls)//batch_size):\n",
        "                #b_x=np.zeros((64,100,100,3))\n",
        "                b_x=ls[j*batch_size:(j*batch_size+batch_size)]\n",
        "              \n",
        "                #b_y=np.zeros((64,7))\n",
        "                b_y=otp[j*batch_size:(j*batch_size+batch_size)]\n",
        "                correct_prediction = tf.equal(tf.argmax(prediction, 1), tf.argmax(y, 1))\n",
        "                accuracy = tf.reduce_mean(tf.cast(correct_prediction, tf.float32))\n",
        "#                 opt = sess.run(optimizer, feed_dict={x: b_x,y: b_y})\n",
        "                _,loss, acc = sess.run([optimizer,cost, accuracy], feed_dict={x: b_x,y: b_y})\n",
        "            print(\"epoch \" + str(ep) + \", Loss= \" + \\\n",
        "                      \"{:.6f}\".format(loss) + \", Training Accuracy= \" + \\\n",
        "                      \"{:.5f}\".format(acc))\n",
        "            print(\"Optimization Finished!\")\n",
        "            \n",
        "        \n",
        "            test_acc,valid_loss = sess.run([accuracy,cost], feed_dict={x: ls1,y : otp1})\n",
        "            print(\"Testing Accuracy:\",\"{:.5f}\".format(test_acc))\n",
        "train_neural_network(ls)"
      ],
      "execution_count": 0,
      "outputs": [
        {
          "output_type": "stream",
          "text": [
            "epoch 0, Loss= 34502524.000000, Training Accuracy= 0.17188\n",
            "Optimization Finished!\n",
            "Testing Accuracy: 0.14912\n",
            "epoch 1, Loss= 17613374.000000, Training Accuracy= 0.20312\n",
            "Optimization Finished!\n",
            "Testing Accuracy: 0.15351\n",
            "epoch 2, Loss= 15926286.000000, Training Accuracy= 0.20312\n",
            "Optimization Finished!\n",
            "Testing Accuracy: 0.18860\n",
            "epoch 3, Loss= 12997898.000000, Training Accuracy= 0.28125\n",
            "Optimization Finished!\n",
            "Testing Accuracy: 0.17544\n",
            "epoch 4, Loss= 11187177.000000, Training Accuracy= 0.29688\n",
            "Optimization Finished!\n",
            "Testing Accuracy: 0.17982\n",
            "epoch 5, Loss= 8581988.000000, Training Accuracy= 0.34375\n",
            "Optimization Finished!\n",
            "Testing Accuracy: 0.17105\n",
            "epoch 6, Loss= 7251221.500000, Training Accuracy= 0.34375\n",
            "Optimization Finished!\n",
            "Testing Accuracy: 0.18860\n",
            "epoch 7, Loss= 6597481.000000, Training Accuracy= 0.42188\n",
            "Optimization Finished!\n",
            "Testing Accuracy: 0.18860\n",
            "epoch 8, Loss= 5937952.000000, Training Accuracy= 0.45312\n",
            "Optimization Finished!\n",
            "Testing Accuracy: 0.18860\n",
            "epoch 9, Loss= 5228985.000000, Training Accuracy= 0.46875\n",
            "Optimization Finished!\n",
            "Testing Accuracy: 0.19298\n",
            "epoch 10, Loss= 6746209.000000, Training Accuracy= 0.42188\n",
            "Optimization Finished!\n",
            "Testing Accuracy: 0.19298\n",
            "epoch 11, Loss= 5067881.500000, Training Accuracy= 0.51562\n",
            "Optimization Finished!\n",
            "Testing Accuracy: 0.17982\n",
            "epoch 12, Loss= 4037884.250000, Training Accuracy= 0.56250\n",
            "Optimization Finished!\n",
            "Testing Accuracy: 0.21053\n",
            "epoch 13, Loss= 3348018.500000, Training Accuracy= 0.51562\n",
            "Optimization Finished!\n",
            "Testing Accuracy: 0.21053\n",
            "epoch 14, Loss= 2277342.000000, Training Accuracy= 0.64062\n",
            "Optimization Finished!\n",
            "Testing Accuracy: 0.19298\n",
            "epoch 15, Loss= 2084443.000000, Training Accuracy= 0.67188\n",
            "Optimization Finished!\n",
            "Testing Accuracy: 0.18421\n",
            "epoch 16, Loss= 2542516.500000, Training Accuracy= 0.54688\n",
            "Optimization Finished!\n",
            "Testing Accuracy: 0.18860\n",
            "epoch 17, Loss= 2121553.500000, Training Accuracy= 0.59375\n",
            "Optimization Finished!\n",
            "Testing Accuracy: 0.19737\n",
            "epoch 18, Loss= 1229234.250000, Training Accuracy= 0.68750\n",
            "Optimization Finished!\n",
            "Testing Accuracy: 0.21930\n",
            "epoch 19, Loss= 796551.875000, Training Accuracy= 0.73438\n",
            "Optimization Finished!\n",
            "Testing Accuracy: 0.20175\n",
            "epoch 20, Loss= 838680.812500, Training Accuracy= 0.73438\n",
            "Optimization Finished!\n",
            "Testing Accuracy: 0.20614\n",
            "epoch 21, Loss= 473118.750000, Training Accuracy= 0.85938\n",
            "Optimization Finished!\n",
            "Testing Accuracy: 0.20175\n",
            "epoch 22, Loss= 963365.375000, Training Accuracy= 0.78125\n",
            "Optimization Finished!\n",
            "Testing Accuracy: 0.19298\n",
            "epoch 23, Loss= 1034954.250000, Training Accuracy= 0.81250\n",
            "Optimization Finished!\n",
            "Testing Accuracy: 0.20614\n",
            "epoch 24, Loss= 269005.500000, Training Accuracy= 0.89062\n",
            "Optimization Finished!\n",
            "Testing Accuracy: 0.19298\n",
            "epoch 25, Loss= 499283.843750, Training Accuracy= 0.75000\n",
            "Optimization Finished!\n",
            "Testing Accuracy: 0.19298\n",
            "epoch 26, Loss= 330181.062500, Training Accuracy= 0.84375\n",
            "Optimization Finished!\n",
            "Testing Accuracy: 0.19298\n",
            "epoch 27, Loss= 255298.578125, Training Accuracy= 0.89062\n",
            "Optimization Finished!\n",
            "Testing Accuracy: 0.17982\n",
            "epoch 28, Loss= 111772.828125, Training Accuracy= 0.93750\n",
            "Optimization Finished!\n",
            "Testing Accuracy: 0.19298\n",
            "epoch 29, Loss= 95662.015625, Training Accuracy= 0.95312\n",
            "Optimization Finished!\n",
            "Testing Accuracy: 0.19298\n",
            "epoch 30, Loss= 158873.218750, Training Accuracy= 0.90625\n",
            "Optimization Finished!\n",
            "Testing Accuracy: 0.19737\n",
            "epoch 31, Loss= 19761.148438, Training Accuracy= 0.96875\n",
            "Optimization Finished!\n",
            "Testing Accuracy: 0.18860\n",
            "epoch 32, Loss= 55792.320312, Training Accuracy= 0.98438\n",
            "Optimization Finished!\n",
            "Testing Accuracy: 0.18421\n",
            "epoch 33, Loss= 57803.570312, Training Accuracy= 0.96875\n",
            "Optimization Finished!\n",
            "Testing Accuracy: 0.18421\n",
            "epoch 34, Loss= 16130.890625, Training Accuracy= 0.98438\n",
            "Optimization Finished!\n",
            "Testing Accuracy: 0.17544\n",
            "epoch 35, Loss= 81331.773438, Training Accuracy= 0.95312\n",
            "Optimization Finished!\n",
            "Testing Accuracy: 0.18860\n",
            "epoch 36, Loss= 3885.187500, Training Accuracy= 0.98438\n",
            "Optimization Finished!\n",
            "Testing Accuracy: 0.18860\n",
            "epoch 37, Loss= 12332.281250, Training Accuracy= 0.98438\n",
            "Optimization Finished!\n",
            "Testing Accuracy: 0.18860\n",
            "epoch 38, Loss= 0.000000, Training Accuracy= 1.00000\n",
            "Optimization Finished!\n",
            "Testing Accuracy: 0.18421\n",
            "epoch 39, Loss= 3848.437500, Training Accuracy= 0.98438\n",
            "Optimization Finished!\n",
            "Testing Accuracy: 0.18860\n",
            "epoch 40, Loss= 802.401367, Training Accuracy= 0.98438\n",
            "Optimization Finished!\n",
            "Testing Accuracy: 0.18421\n",
            "epoch 41, Loss= 0.000000, Training Accuracy= 1.00000\n",
            "Optimization Finished!\n",
            "Testing Accuracy: 0.18860\n",
            "epoch 42, Loss= 0.000000, Training Accuracy= 1.00000\n",
            "Optimization Finished!\n",
            "Testing Accuracy: 0.18421\n",
            "epoch 43, Loss= 0.000000, Training Accuracy= 1.00000\n",
            "Optimization Finished!\n",
            "Testing Accuracy: 0.18860\n",
            "epoch 44, Loss= 0.000000, Training Accuracy= 1.00000\n",
            "Optimization Finished!\n",
            "Testing Accuracy: 0.17982\n",
            "epoch 45, Loss= 0.000000, Training Accuracy= 1.00000\n",
            "Optimization Finished!\n",
            "Testing Accuracy: 0.17982\n",
            "epoch 46, Loss= 0.000000, Training Accuracy= 1.00000\n",
            "Optimization Finished!\n",
            "Testing Accuracy: 0.17982\n",
            "epoch 47, Loss= 0.000000, Training Accuracy= 1.00000\n",
            "Optimization Finished!\n",
            "Testing Accuracy: 0.18421\n",
            "epoch 48, Loss= 19247.656250, Training Accuracy= 0.98438\n",
            "Optimization Finished!\n",
            "Testing Accuracy: 0.18421\n",
            "epoch 49, Loss= 289.390625, Training Accuracy= 0.98438\n",
            "Optimization Finished!\n",
            "Testing Accuracy: 0.19298\n",
            "epoch 50, Loss= 0.000000, Training Accuracy= 1.00000\n",
            "Optimization Finished!\n",
            "Testing Accuracy: 0.18860\n",
            "epoch 51, Loss= 0.000000, Training Accuracy= 1.00000\n",
            "Optimization Finished!\n",
            "Testing Accuracy: 0.19298\n",
            "epoch 52, Loss= 0.000000, Training Accuracy= 1.00000\n",
            "Optimization Finished!\n",
            "Testing Accuracy: 0.19298\n",
            "epoch 53, Loss= 0.000000, Training Accuracy= 1.00000\n",
            "Optimization Finished!\n",
            "Testing Accuracy: 0.18421\n",
            "epoch 54, Loss= 4136.250000, Training Accuracy= 0.98438\n",
            "Optimization Finished!\n",
            "Testing Accuracy: 0.18860\n",
            "epoch 55, Loss= 0.000000, Training Accuracy= 1.00000\n",
            "Optimization Finished!\n",
            "Testing Accuracy: 0.18860\n",
            "epoch 56, Loss= 0.000000, Training Accuracy= 1.00000\n",
            "Optimization Finished!\n",
            "Testing Accuracy: 0.18421\n",
            "epoch 57, Loss= 0.000000, Training Accuracy= 1.00000\n",
            "Optimization Finished!\n",
            "Testing Accuracy: 0.17982\n",
            "epoch 58, Loss= 0.000000, Training Accuracy= 1.00000\n",
            "Optimization Finished!\n",
            "Testing Accuracy: 0.19298\n",
            "epoch 59, Loss= 0.000000, Training Accuracy= 1.00000\n",
            "Optimization Finished!\n",
            "Testing Accuracy: 0.19737\n",
            "epoch 60, Loss= 46949.449219, Training Accuracy= 0.95312\n",
            "Optimization Finished!\n",
            "Testing Accuracy: 0.20175\n",
            "epoch 61, Loss= 0.000000, Training Accuracy= 1.00000\n",
            "Optimization Finished!\n",
            "Testing Accuracy: 0.18421\n",
            "epoch 62, Loss= 5695.101562, Training Accuracy= 0.98438\n",
            "Optimization Finished!\n",
            "Testing Accuracy: 0.19298\n",
            "epoch 63, Loss= 0.000000, Training Accuracy= 1.00000\n",
            "Optimization Finished!\n",
            "Testing Accuracy: 0.19298\n",
            "epoch 64, Loss= 0.000000, Training Accuracy= 1.00000\n",
            "Optimization Finished!\n",
            "Testing Accuracy: 0.19298\n",
            "epoch 65, Loss= 0.000000, Training Accuracy= 1.00000\n",
            "Optimization Finished!\n",
            "Testing Accuracy: 0.19298\n",
            "epoch 66, Loss= 0.000000, Training Accuracy= 1.00000\n",
            "Optimization Finished!\n",
            "Testing Accuracy: 0.19298\n",
            "epoch 67, Loss= 0.000000, Training Accuracy= 1.00000\n",
            "Optimization Finished!\n",
            "Testing Accuracy: 0.19298\n",
            "epoch 68, Loss= 0.000000, Training Accuracy= 1.00000\n",
            "Optimization Finished!\n",
            "Testing Accuracy: 0.19298\n",
            "epoch 69, Loss= 0.000000, Training Accuracy= 1.00000\n",
            "Optimization Finished!\n",
            "Testing Accuracy: 0.19298\n",
            "epoch 70, Loss= 0.000000, Training Accuracy= 1.00000\n",
            "Optimization Finished!\n",
            "Testing Accuracy: 0.19298\n",
            "epoch 71, Loss= 0.000000, Training Accuracy= 1.00000\n",
            "Optimization Finished!\n",
            "Testing Accuracy: 0.19298\n",
            "epoch 72, Loss= 0.000000, Training Accuracy= 1.00000\n",
            "Optimization Finished!\n",
            "Testing Accuracy: 0.19298\n",
            "epoch 73, Loss= 0.000000, Training Accuracy= 1.00000\n",
            "Optimization Finished!\n",
            "Testing Accuracy: 0.19298\n",
            "epoch 74, Loss= 0.000000, Training Accuracy= 1.00000\n",
            "Optimization Finished!\n",
            "Testing Accuracy: 0.19298\n",
            "epoch 75, Loss= 0.000000, Training Accuracy= 1.00000\n",
            "Optimization Finished!\n",
            "Testing Accuracy: 0.19298\n",
            "epoch 76, Loss= 0.000000, Training Accuracy= 1.00000\n",
            "Optimization Finished!\n",
            "Testing Accuracy: 0.19298\n",
            "epoch 77, Loss= 0.000000, Training Accuracy= 1.00000\n",
            "Optimization Finished!\n",
            "Testing Accuracy: 0.19298\n",
            "epoch 78, Loss= 0.000000, Training Accuracy= 1.00000\n",
            "Optimization Finished!\n",
            "Testing Accuracy: 0.19298\n",
            "epoch 79, Loss= 0.000000, Training Accuracy= 1.00000\n",
            "Optimization Finished!\n",
            "Testing Accuracy: 0.19298\n",
            "epoch 80, Loss= 0.000000, Training Accuracy= 1.00000\n",
            "Optimization Finished!\n",
            "Testing Accuracy: 0.19298\n",
            "epoch 81, Loss= 0.000000, Training Accuracy= 1.00000\n",
            "Optimization Finished!\n",
            "Testing Accuracy: 0.19298\n",
            "epoch 82, Loss= 0.000000, Training Accuracy= 1.00000\n",
            "Optimization Finished!\n",
            "Testing Accuracy: 0.19298\n",
            "epoch 83, Loss= 0.000000, Training Accuracy= 1.00000\n",
            "Optimization Finished!\n",
            "Testing Accuracy: 0.19298\n",
            "epoch 84, Loss= 0.000000, Training Accuracy= 1.00000\n",
            "Optimization Finished!\n",
            "Testing Accuracy: 0.19298\n",
            "epoch 85, Loss= 0.000000, Training Accuracy= 1.00000\n",
            "Optimization Finished!\n",
            "Testing Accuracy: 0.19298\n",
            "epoch 86, Loss= 0.000000, Training Accuracy= 1.00000\n",
            "Optimization Finished!\n",
            "Testing Accuracy: 0.19298\n",
            "epoch 87, Loss= 0.000000, Training Accuracy= 1.00000\n",
            "Optimization Finished!\n",
            "Testing Accuracy: 0.19298\n",
            "epoch 88, Loss= 0.000000, Training Accuracy= 1.00000\n",
            "Optimization Finished!\n",
            "Testing Accuracy: 0.19298\n",
            "epoch 89, Loss= 0.000000, Training Accuracy= 1.00000\n",
            "Optimization Finished!\n",
            "Testing Accuracy: 0.19298\n",
            "epoch 90, Loss= 0.000000, Training Accuracy= 1.00000\n",
            "Optimization Finished!\n",
            "Testing Accuracy: 0.19298\n",
            "epoch 91, Loss= 0.000000, Training Accuracy= 1.00000\n",
            "Optimization Finished!\n",
            "Testing Accuracy: 0.19298\n",
            "epoch 92, Loss= 0.000000, Training Accuracy= 1.00000\n",
            "Optimization Finished!\n",
            "Testing Accuracy: 0.19298\n",
            "epoch 93, Loss= 0.000000, Training Accuracy= 1.00000\n",
            "Optimization Finished!\n",
            "Testing Accuracy: 0.19298\n",
            "epoch 94, Loss= 0.000000, Training Accuracy= 1.00000\n",
            "Optimization Finished!\n",
            "Testing Accuracy: 0.19298\n",
            "epoch 95, Loss= 0.000000, Training Accuracy= 1.00000\n",
            "Optimization Finished!\n",
            "Testing Accuracy: 0.19298\n",
            "epoch 96, Loss= 0.000000, Training Accuracy= 1.00000\n",
            "Optimization Finished!\n",
            "Testing Accuracy: 0.19298\n",
            "epoch 97, Loss= 0.000000, Training Accuracy= 1.00000\n",
            "Optimization Finished!\n",
            "Testing Accuracy: 0.19298\n",
            "epoch 98, Loss= 0.000000, Training Accuracy= 1.00000\n",
            "Optimization Finished!\n",
            "Testing Accuracy: 0.19298\n",
            "epoch 99, Loss= 0.000000, Training Accuracy= 1.00000\n",
            "Optimization Finished!\n",
            "Testing Accuracy: 0.19298\n"
          ],
          "name": "stdout"
        }
      ]
    },
    {
      "metadata": {
        "id": "MZC34jeF1U4c",
        "colab_type": "code",
        "colab": {}
      },
      "cell_type": "code",
      "source": [
        ""
      ],
      "execution_count": 0,
      "outputs": []
    },
    {
      "metadata": {
        "id": "_r5XMJgKNKeA",
        "colab_type": "code",
        "colab": {}
      },
      "cell_type": "code",
      "source": [
        ""
      ],
      "execution_count": 0,
      "outputs": []
    }
  ]
}